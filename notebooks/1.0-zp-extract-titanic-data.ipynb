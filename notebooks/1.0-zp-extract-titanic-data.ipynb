{
 "cells": [
  {
   "cell_type": "markdown",
   "id": "72e12176-b857-414b-9cf3-ce4a728c0d86",
   "metadata": {},
   "source": [
    "### Extracting Titanic Disaster Data from Kaggle"
   ]
  },
  {
   "cell_type": "code",
   "execution_count": null,
   "id": "12fa8a36-2316-46ea-8496-5ee76c0359d1",
   "metadata": {},
   "outputs": [],
   "source": []
  }
 ],
 "metadata": {
  "kernelspec": {
   "display_name": "Python 3 (ipykernel)",
   "language": "python",
   "name": "python3"
  },
  "language_info": {
   "codemirror_mode": {
    "name": "ipython",
    "version": 3
   },
   "file_extension": ".py",
   "mimetype": "text/x-python",
   "name": "python",
   "nbconvert_exporter": "python",
   "pygments_lexer": "ipython3",
   "version": "3.11.4"
  }
 },
 "nbformat": 4,
 "nbformat_minor": 5
}
